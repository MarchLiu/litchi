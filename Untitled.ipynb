{
 "cells": [
  {
   "cell_type": "markdown",
   "id": "22407108-c757-4421-888f-88f5e447f78f",
   "metadata": {},
   "source": [
    "how to create a matrix inversion use numpy"
   ]
  },
  {
   "cell_type": "markdown",
   "id": "f6ee51ce-42c0-428d-aeb1-d932ab907a31",
   "metadata": {},
   "source": [
    "To create a matrix inversion using NumPy, you can use the `numpy.linalg.inv()` function. This function computes the inverse of a square matrix.\n",
    "\n",
    "Here's an example of how to create a matrix and invert it using NumPy:\n",
    "\n",
    "1. First, you need to import the NumPy library:\n",
    "\n",
    "```python\n",
    "import numpy as np\n",
    "```\n",
    "\n",
    "2. Create a square matrix. For example, let's create a 3x3 matrix:\n",
    "\n",
    "```python\n",
    "A = np.array([[1, 2, 3],\n",
    "              [0, 1, 4],\n",
    "              [5, 6, 0]])\n",
    "```\n",
    "\n",
    "3. Use the `numpy.linalg.inv()` function to compute the inverse of the matrix:\n",
    "\n",
    "```python\n",
    "A_inv = np.linalg.inv(A)\n",
    "```\n",
    "\n",
    "4. Now, `A_inv` contains the inverse of the matrix `A`. You can print the result:\n",
    "\n",
    "```python\n",
    "print(\"Inverse of matrix A:\")\n",
    "print(A_inv)\n",
    "```\n",
    "\n",
    "Here's the complete code:\n",
    "\n",
    "```python\n",
    "import numpy as np\n",
    "\n",
    "# Create a 3x3 matrix\n",
    "A = np.array([[1, 2, 3],\n",
    "              [0, 1, 4],\n",
    "              [5, 6, 0]])\n",
    "\n",
    "# Compute the inverse of the matrix\n",
    "A_inv = np.linalg.inv(A)\n",
    "\n",
    "# Print the result\n",
    "print(\"Inverse of matrix A:\")\n",
    "print(A_inv)\n",
    "```\n",
    "\n",
    "Keep in mind that not all matrices have an inverse. If you try to invert a matrix that doesn't have an inverse, NumPy will raise a `LinAlgError`. You can check if a matrix is invertible by checking if its determinant is non-zero:\n",
    "\n",
    "```python\n",
    "if np.linalg.det(A) != 0:\n",
    "    A_inv = np.linalg.inv(A)\n",
    "    print(\"Inverse of matrix A:\")\n",
    "    print(A_inv)\n",
    "else:\n",
    "    print(\"Matrix A is not invertible.\")\n",
    "```"
   ]
  },
  {
   "cell_type": "code",
   "execution_count": null,
   "id": "1e6200e2-2016-4686-8984-1bd7b81ef65e",
   "metadata": {},
   "outputs": [],
   "source": []
  }
 ],
 "metadata": {
  "kernelspec": {
   "display_name": "Python 3 (ipykernel)",
   "language": "python",
   "name": "python3"
  },
  "language_info": {
   "codemirror_mode": {
    "name": "ipython",
    "version": 3
   },
   "file_extension": ".py",
   "mimetype": "text/x-python",
   "name": "python",
   "nbconvert_exporter": "python",
   "pygments_lexer": "ipython3",
   "version": "3.12.5"
  }
 },
 "nbformat": 4,
 "nbformat_minor": 5
}
